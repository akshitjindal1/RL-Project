{
 "cells": [
  {
   "cell_type": "code",
   "execution_count": 154,
   "id": "5338e7a8",
   "metadata": {},
   "outputs": [],
   "source": [
    "import matplotlib.pyplot as plt\n",
    "import pickle\n",
    "import numpy as np\n",
    "import torch\n",
    "from tqdm import tqdm\n",
    "from collections import defaultdict, Counter"
   ]
  },
  {
   "cell_type": "code",
   "execution_count": 162,
   "id": "9c1f6031",
   "metadata": {},
   "outputs": [
    {
     "data": {
      "text/plain": [
       "Counter({1: 600, 0: 9484})"
      ]
     },
     "execution_count": 162,
     "metadata": {},
     "output_type": "execute_result"
    }
   ],
   "source": [
    "frame_set = []\n",
    "with open('output_summary_without_feedback/P03_UTE_policy_grad_summary_length_600_subshot_size_200_hidden_dim_256_summary_without_feedback.txt','r') as f:\n",
    "    frame_set = f.readlines()\n",
    "frame_set = [1 if i=='1\\n' else 0 for i in frame_set]\n",
    "Counter(frame_set)"
   ]
  },
  {
   "cell_type": "code",
   "execution_count": 168,
   "id": "be593809",
   "metadata": {},
   "outputs": [],
   "source": [
    "gt_summaries = []\n",
    "gt_data = ['gr01_1.csv','gr01_2.csv','gr01_3.csv']\n",
    "for fl in gt_data:\n",
    "    with open(f'datasets/videoset_data/reference_summaries/gr/{fl}','r') as f:\n",
    "        data = f.readlines()\n",
    "        data = data[1:]\n",
    "        data_nums = [int(i[-11:-5]) for i in data[:-1]]\n",
    "        data_nums.append(int(data[-1][-10:-4]))\n",
    "    gt_summary = [0]*len(frame_set)\n",
    "    for i in data_nums:\n",
    "        for num in range(i*5,i*5+5):\n",
    "            num = min(len(frame_set)-1,num)\n",
    "            gt_summary[num]=1\n",
    "    gt_summaries.append(gt_summary)"
   ]
  },
  {
   "cell_type": "code",
   "execution_count": 169,
   "id": "476ad8b5",
   "metadata": {},
   "outputs": [
    {
     "data": {
      "text/plain": [
       "Counter({1: 600, 0: 9484})"
      ]
     },
     "execution_count": 169,
     "metadata": {},
     "output_type": "execute_result"
    }
   ],
   "source": [
    "frame_set = []\n",
    "with open('output_summary_without_feedback/P03_UTE_policy_grad_summary_length_600_subshot_size_200_hidden_dim_256_summary_without_feedback.txt','r') as f:\n",
    "    frame_set = f.readlines()\n",
    "frame_set = [1 if i=='1\\n' else 0 for i in frame_set]\n",
    "Counter(frame_set)"
   ]
  },
  {
   "cell_type": "code",
   "execution_count": 170,
   "id": "91b774af",
   "metadata": {},
   "outputs": [],
   "source": [
    "gt_summaries = []\n",
    "gt_data = ['gr03_1.csv','gr03_2.csv','gr03_3.csv']\n",
    "for fl in gt_data:\n",
    "    with open(f'datasets/videoset_data/reference_summaries/gr/{fl}','r') as f:\n",
    "        data = f.readlines()\n",
    "        data = data[1:]\n",
    "        data_nums = [int(i[-11:-5]) for i in data[:-1]]\n",
    "        data_nums.append(int(data[-1][-10:-4]))\n",
    "    gt_summary = [0]*len(frame_set)\n",
    "    for i in data_nums:\n",
    "        for num in range(i*5,i*5+5):\n",
    "            num = min(len(frame_set)-1,num)\n",
    "            gt_summary[num]=1\n",
    "    gt_summaries.append(gt_summary)"
   ]
  },
  {
   "cell_type": "code",
   "execution_count": 171,
   "id": "8a858467",
   "metadata": {},
   "outputs": [
    {
     "data": {
      "text/plain": [
       "2016"
      ]
     },
     "execution_count": 171,
     "metadata": {},
     "output_type": "execute_result"
    }
   ],
   "source": [
    "len(frame_set)//5"
   ]
  },
  {
   "cell_type": "code",
   "execution_count": 172,
   "id": "608aab00",
   "metadata": {},
   "outputs": [
    {
     "data": {
      "text/plain": [
       "(Counter({0: 9798, 1: 286}), Counter({0: 9838, 1: 246}))"
      ]
     },
     "execution_count": 172,
     "metadata": {},
     "output_type": "execute_result"
    }
   ],
   "source": [
    "Counter(gt_summaries[0]), Counter(gt_summaries[1])"
   ]
  },
  {
   "cell_type": "code",
   "execution_count": 173,
   "id": "999e911e",
   "metadata": {},
   "outputs": [],
   "source": [
    "frame_set = np.array(frame_set)\n",
    "gt_summary = np.array(gt_summary)"
   ]
  },
  {
   "cell_type": "code",
   "execution_count": 174,
   "id": "05133efb",
   "metadata": {},
   "outputs": [
    {
     "name": "stdout",
     "output_type": "stream",
     "text": [
      "Relaxed F1 Score: 0.5676190476190476\n",
      "Relaxed F1 Score: 0.6773049645390072\n",
      "Relaxed F1 Score: 0.6365280289330922\n",
      "0.6271506803637156\n"
     ]
    }
   ],
   "source": [
    "def relaxed_f1_score(predicted_summary, ground_truth_summary, delta_t):\n",
    "    \"\"\"\n",
    "    Calculate the relaxed F1 score based on a fixed temporal relaxation (∆t).\n",
    "\n",
    "    Args:\n",
    "    - predicted_summary (list): Binary sequence representing the predicted summary.\n",
    "    - ground_truth_summary (list): Binary sequence representing the ground truth summary.\n",
    "    - delta_t (int): Temporal relaxation threshold.\n",
    "\n",
    "    Returns:\n",
    "    - f1_score (float): Relaxed F1 score.\n",
    "    \"\"\"\n",
    "    # Convert binary sequences to list of intervals\n",
    "    def binary_to_intervals(binary_sequence):\n",
    "        intervals = []\n",
    "        start = None\n",
    "        for i, value in enumerate(binary_sequence):\n",
    "            if value == 1 and start is None:\n",
    "                start = i\n",
    "            elif value == 0 and start is not None:\n",
    "                intervals.append((start, i - 1))\n",
    "                start = None\n",
    "        if start is not None:\n",
    "            intervals.append((start, len(binary_sequence) - 1))\n",
    "        return intervals\n",
    "\n",
    "    # Calculate the intersection over union (IoU) of two intervals\n",
    "    def calculate_iou(interval1, interval2):\n",
    "        intersection = max(0, min(interval1[1], interval2[1]) - max(interval1[0], interval2[0]) + delta_t+1)\n",
    "        union = max(interval1[1] - interval1[0] + delta_t+1, interval2[1] - interval2[0] + delta_t+1) - intersection\n",
    "        return intersection / union if union > 0 else 0\n",
    "\n",
    "    # Convert binary sequences to intervals\n",
    "    pred_intervals = binary_to_intervals(predicted_summary)\n",
    "    gt_intervals = binary_to_intervals(ground_truth_summary)\n",
    "\n",
    "    tp, fp, fn = 0, 0, 0\n",
    "\n",
    "    for pred_interval in pred_intervals:\n",
    "        iou_with_ground_truth = max([calculate_iou(pred_interval, gt_interval) for gt_interval in gt_intervals])\n",
    "\n",
    "        if iou_with_ground_truth > 0:\n",
    "            tp += 1\n",
    "        else:\n",
    "            fp += 1\n",
    "\n",
    "    for gt_interval in gt_intervals:\n",
    "        iou_with_prediction = max([calculate_iou(gt_interval, pred_interval) for pred_interval in pred_intervals])\n",
    "\n",
    "        if iou_with_prediction == 0:\n",
    "            fn += 1\n",
    "\n",
    "    precision = tp / (tp + fp) if tp + fp > 0 else 0\n",
    "    recall = tp / (tp + fn) if tp + fn > 0 else 0\n",
    "\n",
    "    f1_score = 2 * (precision * recall) / (precision + recall) if precision + recall > 0 else 0\n",
    "\n",
    "    return f1_score\n",
    "\n",
    "\n",
    "delta_t = 50\n",
    "avg_f1 = 0.0\n",
    "for gt_summary in gt_summaries:\n",
    "    relaxed_f1 = relaxed_f1_score(frame_set, gt_summary, delta_t)\n",
    "    print(\"Relaxed F1 Score:\", relaxed_f1)\n",
    "    avg_f1+=relaxed_f1\n",
    "print(avg_f1/len(gt_summaries))\n"
   ]
  },
  {
   "cell_type": "code",
   "execution_count": null,
   "id": "430e6962",
   "metadata": {},
   "outputs": [],
   "source": []
  }
 ],
 "metadata": {
  "kernelspec": {
   "display_name": "Python 3 (ipykernel)",
   "language": "python",
   "name": "python3"
  },
  "language_info": {
   "codemirror_mode": {
    "name": "ipython",
    "version": 3
   },
   "file_extension": ".py",
   "mimetype": "text/x-python",
   "name": "python",
   "nbconvert_exporter": "python",
   "pygments_lexer": "ipython3",
   "version": "3.10.9"
  }
 },
 "nbformat": 4,
 "nbformat_minor": 5
}
